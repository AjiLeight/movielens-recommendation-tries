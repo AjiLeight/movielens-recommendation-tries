{
 "cells": [
  {
   "cell_type": "code",
   "execution_count": 50,
   "metadata": {},
   "outputs": [],
   "source": [
    "from surprise import KNNBasic , Dataset , Reader\n",
    "from collections import defaultdict\n",
    "from operator import itemgetter\n",
    "import heapq\n",
    "\n",
    "import os\n",
    "import csv\n",
    "\n",
    "import constants\n",
    "import components"
   ]
  },
  {
   "cell_type": "code",
   "execution_count": 51,
   "metadata": {},
   "outputs": [],
   "source": [
    "dataset = components.ml_small_rating_to_dataset()"
   ]
  },
  {
   "cell_type": "code",
   "execution_count": 56,
   "metadata": {},
   "outputs": [
    {
     "data": {
      "text/plain": [
       "<surprise.trainset.Trainset at 0x1f94a6e8ee0>"
      ]
     },
     "execution_count": 56,
     "metadata": {},
     "output_type": "execute_result"
    }
   ],
   "source": [
    "trainset = dataset.build_full_trainset()"
   ]
  },
  {
   "cell_type": "code",
   "execution_count": null,
   "metadata": {},
   "outputs": [],
   "source": [
    "import pickle\n",
    "file_name = \"./models/trainset\"\n",
    "f = open(file_name, \"wb\")\n",
    "pickle.dump(trainset, f)\n",
    "f.close\n"
   ]
  },
  {
   "cell_type": "code",
   "execution_count": 53,
   "metadata": {},
   "outputs": [
    {
     "name": "stdout",
     "output_type": "stream",
     "text": [
      "Computing the cosine similarity matrix...\n",
      "Done computing similarity matrix.\n"
     ]
    }
   ],
   "source": [
    "#computing similarity matrix with K Nearest Neighbour algorithm and cosine similarity\n",
    "#we are using item based collaborative filtering hence user_based should be false\n",
    "\n",
    "algo = KNNBasic(sim_options={\n",
    "    'name':'cosine',\n",
    "    'user_based' : False\n",
    "}).fit(trainset)\n",
    "\n",
    "#similarity_matrix = algo.compute_similarities()"
   ]
  },
  {
   "cell_type": "code",
   "execution_count": 54,
   "metadata": {},
   "outputs": [
    {
     "name": "stdout",
     "output_type": "stream",
     "text": [
      "Computing the cosine similarity matrix...\n",
      "Done computing similarity matrix.\n"
     ]
    }
   ],
   "source": [
    "similarity_matrix = algo.compute_similarities()"
   ]
  },
  {
   "cell_type": "code",
   "execution_count": 55,
   "metadata": {},
   "outputs": [],
   "source": [
    "from surprise import dump\n",
    "import os\n",
    "model_filename = \"./models/KNNBasic_model_pickle\"\n",
    "file_name = os.path.expanduser(model_filename)\n",
    "dump.dump(model_filename,algo=similarity_matrix)"
   ]
  }
 ],
 "metadata": {
  "kernelspec": {
   "display_name": "Python 3.9.12 ('venv')",
   "language": "python",
   "name": "python3"
  },
  "language_info": {
   "codemirror_mode": {
    "name": "ipython",
    "version": 3
   },
   "file_extension": ".py",
   "mimetype": "text/x-python",
   "name": "python",
   "nbconvert_exporter": "python",
   "pygments_lexer": "ipython3",
   "version": "3.9.12"
  },
  "vscode": {
   "interpreter": {
    "hash": "f9945ede19c861501f6db448a31a950c28a4fd18ab499c7833d7bdd8ecf37528"
   }
  }
 },
 "nbformat": 4,
 "nbformat_minor": 2
}
