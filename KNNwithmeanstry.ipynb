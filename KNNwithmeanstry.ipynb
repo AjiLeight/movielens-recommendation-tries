{
 "cells": [
  {
   "cell_type": "code",
   "execution_count": 1,
   "metadata": {},
   "outputs": [],
   "source": [
    "import components\n",
    "import constants\n",
    "from surprise import KNNWithMeans, Reader, Dataset"
   ]
  },
  {
   "cell_type": "code",
   "execution_count": 2,
   "metadata": {},
   "outputs": [],
   "source": [
    "dataset = components.ml_small_rating_to_dataset()"
   ]
  },
  {
   "cell_type": "code",
   "execution_count": 3,
   "metadata": {},
   "outputs": [],
   "source": [
    "trainset = constants.TRAINSET"
   ]
  },
  {
   "cell_type": "code",
   "execution_count": 4,
   "metadata": {},
   "outputs": [
    {
     "ename": "AttributeError",
     "evalue": "'str' object has no attribute 'n_users'",
     "output_type": "error",
     "traceback": [
      "\u001b[1;31m---------------------------------------------------------------------------\u001b[0m",
      "\u001b[1;31mAttributeError\u001b[0m                            Traceback (most recent call last)",
      "\u001b[1;32md:\\ML-movielens-tries\\movielens-recommendation-tries\\KNNwithmeanstry.ipynb Cell 4\u001b[0m in \u001b[0;36m<cell line: 1>\u001b[1;34m()\u001b[0m\n\u001b[1;32m----> <a href='vscode-notebook-cell:/d%3A/ML-movielens-tries/movielens-recommendation-tries/KNNwithmeanstry.ipynb#ch0000003?line=0'>1</a>\u001b[0m algo \u001b[39m=\u001b[39m KNNWithMeans(sim_options\u001b[39m=\u001b[39;49m{\n\u001b[0;32m      <a href='vscode-notebook-cell:/d%3A/ML-movielens-tries/movielens-recommendation-tries/KNNwithmeanstry.ipynb#ch0000003?line=1'>2</a>\u001b[0m     \u001b[39m'\u001b[39;49m\u001b[39mname\u001b[39;49m\u001b[39m'\u001b[39;49m:\u001b[39m'\u001b[39;49m\u001b[39mcosine\u001b[39;49m\u001b[39m'\u001b[39;49m,\n\u001b[0;32m      <a href='vscode-notebook-cell:/d%3A/ML-movielens-tries/movielens-recommendation-tries/KNNwithmeanstry.ipynb#ch0000003?line=2'>3</a>\u001b[0m     \u001b[39m'\u001b[39;49m\u001b[39muser_based\u001b[39;49m\u001b[39m'\u001b[39;49m : \u001b[39mTrue\u001b[39;49;00m\n\u001b[0;32m      <a href='vscode-notebook-cell:/d%3A/ML-movielens-tries/movielens-recommendation-tries/KNNwithmeanstry.ipynb#ch0000003?line=3'>4</a>\u001b[0m })\u001b[39m.\u001b[39;49mfit(trainset)\n",
      "File \u001b[1;32me:\\conda\\envs\\venv\\lib\\site-packages\\surprise\\prediction_algorithms\\knns.py:177\u001b[0m, in \u001b[0;36mKNNWithMeans.fit\u001b[1;34m(self, trainset)\u001b[0m\n\u001b[0;32m    175\u001b[0m \u001b[39mdef\u001b[39;00m \u001b[39mfit\u001b[39m(\u001b[39mself\u001b[39m, trainset):\n\u001b[1;32m--> 177\u001b[0m     SymmetricAlgo\u001b[39m.\u001b[39;49mfit(\u001b[39mself\u001b[39;49m, trainset)\n\u001b[0;32m    178\u001b[0m     \u001b[39mself\u001b[39m\u001b[39m.\u001b[39msim \u001b[39m=\u001b[39m \u001b[39mself\u001b[39m\u001b[39m.\u001b[39mcompute_similarities()\n\u001b[0;32m    180\u001b[0m     \u001b[39mself\u001b[39m\u001b[39m.\u001b[39mmeans \u001b[39m=\u001b[39m np\u001b[39m.\u001b[39mzeros(\u001b[39mself\u001b[39m\u001b[39m.\u001b[39mn_x)\n",
      "File \u001b[1;32me:\\conda\\envs\\venv\\lib\\site-packages\\surprise\\prediction_algorithms\\knns.py:40\u001b[0m, in \u001b[0;36mSymmetricAlgo.fit\u001b[1;34m(self, trainset)\u001b[0m\n\u001b[0;32m     37\u001b[0m AlgoBase\u001b[39m.\u001b[39mfit(\u001b[39mself\u001b[39m, trainset)\n\u001b[0;32m     39\u001b[0m ub \u001b[39m=\u001b[39m \u001b[39mself\u001b[39m\u001b[39m.\u001b[39msim_options[\u001b[39m'\u001b[39m\u001b[39muser_based\u001b[39m\u001b[39m'\u001b[39m]\n\u001b[1;32m---> 40\u001b[0m \u001b[39mself\u001b[39m\u001b[39m.\u001b[39mn_x \u001b[39m=\u001b[39m \u001b[39mself\u001b[39;49m\u001b[39m.\u001b[39;49mtrainset\u001b[39m.\u001b[39;49mn_users \u001b[39mif\u001b[39;00m ub \u001b[39melse\u001b[39;00m \u001b[39mself\u001b[39m\u001b[39m.\u001b[39mtrainset\u001b[39m.\u001b[39mn_items\n\u001b[0;32m     41\u001b[0m \u001b[39mself\u001b[39m\u001b[39m.\u001b[39mn_y \u001b[39m=\u001b[39m \u001b[39mself\u001b[39m\u001b[39m.\u001b[39mtrainset\u001b[39m.\u001b[39mn_items \u001b[39mif\u001b[39;00m ub \u001b[39melse\u001b[39;00m \u001b[39mself\u001b[39m\u001b[39m.\u001b[39mtrainset\u001b[39m.\u001b[39mn_users\n\u001b[0;32m     42\u001b[0m \u001b[39mself\u001b[39m\u001b[39m.\u001b[39mxr \u001b[39m=\u001b[39m \u001b[39mself\u001b[39m\u001b[39m.\u001b[39mtrainset\u001b[39m.\u001b[39mur \u001b[39mif\u001b[39;00m ub \u001b[39melse\u001b[39;00m \u001b[39mself\u001b[39m\u001b[39m.\u001b[39mtrainset\u001b[39m.\u001b[39mir\n",
      "\u001b[1;31mAttributeError\u001b[0m: 'str' object has no attribute 'n_users'"
     ]
    }
   ],
   "source": [
    "algo = KNNWithMeans(sim_options={\n",
    "    'name':'cosine',\n",
    "    'user_based' : True\n",
    "}).fit(trainset)"
   ]
  },
  {
   "cell_type": "code",
   "execution_count": 7,
   "metadata": {},
   "outputs": [
    {
     "name": "stdout",
     "output_type": "stream",
     "text": [
      "Computing the cosine similarity matrix...\n",
      "Done computing similarity matrix.\n"
     ]
    }
   ],
   "source": [
    "similarity_matrix = algo.compute_similarities()"
   ]
  },
  {
   "cell_type": "code",
   "execution_count": null,
   "metadata": {},
   "outputs": [],
   "source": []
  }
 ],
 "metadata": {
  "kernelspec": {
   "display_name": "Python 3.9.12 ('venv')",
   "language": "python",
   "name": "python3"
  },
  "language_info": {
   "codemirror_mode": {
    "name": "ipython",
    "version": 3
   },
   "file_extension": ".py",
   "mimetype": "text/x-python",
   "name": "python",
   "nbconvert_exporter": "python",
   "pygments_lexer": "ipython3",
   "version": "3.9.12"
  },
  "orig_nbformat": 4,
  "vscode": {
   "interpreter": {
    "hash": "f9945ede19c861501f6db448a31a950c28a4fd18ab499c7833d7bdd8ecf37528"
   }
  }
 },
 "nbformat": 4,
 "nbformat_minor": 2
}
